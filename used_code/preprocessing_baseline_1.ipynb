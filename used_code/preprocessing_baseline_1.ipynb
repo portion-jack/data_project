{
 "cells": [
  {
   "cell_type": "code",
   "execution_count": 1,
   "metadata": {},
   "outputs": [
    {
     "data": {
      "text/plain": [
       "'\\npreprocessing baseline\\n# health -> 시도코드 -> 시도명\\n# medicine -> 주성분코드 -> 일반명\\n# medicine mapper -> 주성분코드 -> 일반명 dictionary\\n'"
      ]
     },
     "execution_count": 1,
     "metadata": {},
     "output_type": "execute_result"
    }
   ],
   "source": [
    "\"\"\"\n",
    "preprocessing baseline\n",
    "# health -> 시도코드 -> 시도명\n",
    "# medicine -> 주성분코드 -> 일반명\n",
    "# medicine mapper -> 주성분코드 -> 일반명 dictionary\n",
    "\"\"\""
   ]
  },
  {
   "cell_type": "code",
   "execution_count": 2,
   "metadata": {},
   "outputs": [
    {
     "name": "stdout",
     "output_type": "stream",
     "text": [
      "Hello World\n"
     ]
    }
   ],
   "source": [
    "print(\"Hello World\")"
   ]
  },
  {
   "cell_type": "code",
   "execution_count": 3,
   "metadata": {},
   "outputs": [],
   "source": [
    "# imports\n",
    "import pandas as pd\n",
    "import pickle\n",
    "import matplotlib.pyplot as plt\n",
    "plt.rc('font',family='AppleGothic')"
   ]
  },
  {
   "cell_type": "code",
   "execution_count": 4,
   "metadata": {},
   "outputs": [],
   "source": [
    "import pandas as pd\n",
    "\n",
    "_df_health = pd.read_csv(\"data/raw_data/국민건강보험공단_건강검진정보_2020.CSV\",encoding='cp949')\n",
    "df_health = _df_health.copy()\n",
    "\n",
    "_df_med_1 = pd.read_csv(\"data/raw_data/medicine_2020/HP_T60_2020_1.CSV\",encoding='cp949')\n",
    "df_med_1 = _df_med_1.copy()\n",
    "_df_med_2 = pd.read_csv(\"data/raw_data/medicine_2020/HP_T60_2020_1.CSV\",encoding='cp949')\n",
    "df_med_2 = _df_med_2.copy()\n",
    "_df_med_3 = pd.read_csv(\"data/raw_data/medicine_2020/HP_T60_2020_1.CSV\",encoding='cp949')\n",
    "df_med_3 = _df_med_3.copy()\n",
    "\n",
    "_df_mapper = pd.read_csv(\"data/raw_data/의약품매핑.csv\",encoding='cp949')\n",
    "df_mapper = _df_mapper.copy()"
   ]
  },
  {
   "cell_type": "code",
   "execution_count": 5,
   "metadata": {},
   "outputs": [],
   "source": [
    "df_mapper=df_mapper.loc[:,[\"일반명코드\",\"일반명\"]]\n",
    "\n",
    "mapper_dict=df_mapper.to_dict(\"records\")\n",
    "mapper_dict={items['일반명코드']:items['일반명'] for items in mapper_dict}\n",
    "\n",
    "with open('data/preprocessed_data/medicin_mapper.pkl','wb') as f:\n",
    "    pickle.dump(mapper_dict,f)\n",
    "f.close()"
   ]
  },
  {
   "cell_type": "code",
   "execution_count": 6,
   "metadata": {},
   "outputs": [],
   "source": [
    "for i,df_med in enumerate([df_med_1,df_med_2,df_med_3]):\n",
    "    df_med['약품일반명']=df_med['약품일반성분명코드'].map(mapper_dict)\n",
    "    df_med.to_csv(f\"data/preprocessed_data/medicine/med_2020_{i}.csv\",encoding='cp949')"
   ]
  },
  {
   "cell_type": "code",
   "execution_count": 7,
   "metadata": {},
   "outputs": [],
   "source": [
    "location_dict={11: '서울특별시',\n",
    " 26: '부산광역시',\n",
    " 27: '대구광역시',\n",
    " 28: '인천광역시',\n",
    " 29: '광주광역시',\n",
    " 30: '대전광역시',\n",
    " 31: '울산광역시',\n",
    " 36: '세종특별자치시',\n",
    " 41: '경기도',\n",
    " 42: '강원도',\n",
    " 43: '충청북도',\n",
    " 44: '충청남도',\n",
    " 45: '전라북도',\n",
    " 46: '전라남도',\n",
    " 47: '경상북도',\n",
    " 48: '경상남도',\n",
    " 49: '제주특별자치도'}"
   ]
  },
  {
   "cell_type": "code",
   "execution_count": 8,
   "metadata": {},
   "outputs": [],
   "source": [
    "df_health['시도명']=df_health['시도코드'].map(location_dict)\n",
    "df_health.to_csv('data/preprocessed_data/health_2020.csv',encoding='cp949')"
   ]
  }
 ],
 "metadata": {
  "kernelspec": {
   "display_name": "Python 3.10.6 ('ml')",
   "language": "python",
   "name": "python3"
  },
  "language_info": {
   "codemirror_mode": {
    "name": "ipython",
    "version": 3
   },
   "file_extension": ".py",
   "mimetype": "text/x-python",
   "name": "python",
   "nbconvert_exporter": "python",
   "pygments_lexer": "ipython3",
   "version": "3.10.6"
  },
  "orig_nbformat": 4,
  "vscode": {
   "interpreter": {
    "hash": "08eac26dc1f80337b7d87e94e7159a5bad95c2e85f47efef91c61359b3afbfe9"
   }
  }
 },
 "nbformat": 4,
 "nbformat_minor": 2
}
