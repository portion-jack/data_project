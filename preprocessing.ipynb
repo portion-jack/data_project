{
 "cells": [
  {
   "cell_type": "code",
   "execution_count": 39,
   "metadata": {},
   "outputs": [],
   "source": [
    "# news_crawlings -> list -> pickles\n",
    "# pickles -> list -> list to dict by\n",
    "\"\"\"\n",
    "news_brand = {\n",
    "    date_1 : [news_1],\n",
    "    date_2 : [news_2],\n",
    "    date_3 : [news_3],\n",
    "    date_4 : [news_4],\n",
    "    .\n",
    "    .\n",
    "    .\n",
    "    \n",
    "}\n",
    "\"\"\"\n",
    "import re\n",
    "import pickle\n",
    "import os\n",
    "\n",
    "from wordcloud import WordCloud\n",
    "from konlpy.tag import Okt\n",
    "from collections import Counter\n",
    "\n",
    "import numpy as np\n",
    "import matplotlib.pyplot as plt"
   ]
  },
  {
   "cell_type": "code",
   "execution_count": 40,
   "metadata": {},
   "outputs": [],
   "source": [
    "news_files=os.listdir('news_crawling')"
   ]
  },
  {
   "cell_type": "code",
   "execution_count": 44,
   "metadata": {},
   "outputs": [],
   "source": [
    "news_brands = list({i.split('_')[0] for i in news_files})"
   ]
  },
  {
   "cell_type": "code",
   "execution_count": 47,
   "metadata": {},
   "outputs": [],
   "source": [
    "for news_brand in news_brands:\n",
    "    pickle_files = [i for i in news_files if i.startswith(news_brand)]\n",
    "    pickle_dates=[i.split('_')[-1].split('.')[0] for i in pickle_files] \n",
    "    globals()[news_brand] = dict()\n",
    "    for pickle_date,pickle_file in zip(pickle_dates,pickle_files):\n",
    "        with open(f'news_crawling/{pickle_file}', 'rb') as f:\n",
    "            globals()[news_brand][pickle_date] = pickle.load(f)"
   ]
  },
  {
   "cell_type": "code",
   "execution_count": 59,
   "metadata": {},
   "outputs": [],
   "source": [
    "for news_brand in news_brands:\n",
    "    with open(f\"preprocessed_1_/{news_brand}.pickle\",\"wb\") as f:\n",
    "        pickle.dump(globals()[news_brand],f)"
   ]
  },
  {
   "cell_type": "code",
   "execution_count": null,
   "metadata": {},
   "outputs": [],
   "source": []
  }
 ],
 "metadata": {
  "kernelspec": {
   "display_name": "Python 3.10.6 ('crawling')",
   "language": "python",
   "name": "python3"
  },
  "language_info": {
   "codemirror_mode": {
    "name": "ipython",
    "version": 3
   },
   "file_extension": ".py",
   "mimetype": "text/x-python",
   "name": "python",
   "nbconvert_exporter": "python",
   "pygments_lexer": "ipython3",
   "version": "3.10.6"
  },
  "orig_nbformat": 4,
  "vscode": {
   "interpreter": {
    "hash": "10621530bc52bc3dcaea48e2b7ef028942e35d2e6e9c9234a88fefd069caf90f"
   }
  }
 },
 "nbformat": 4,
 "nbformat_minor": 2
}
