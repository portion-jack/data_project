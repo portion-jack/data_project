{
 "cells": [
  {
   "cell_type": "code",
   "execution_count": 1,
   "metadata": {},
   "outputs": [],
   "source": [
    "import pandas as pd"
   ]
  },
  {
   "cell_type": "code",
   "execution_count": 2,
   "metadata": {},
   "outputs": [],
   "source": [
    "df_2005=pd.read_csv(\"data/checking_data/diag/diag_2005.CSV\",encoding='cp949')\n",
    "df_2010=pd.read_csv(\"data/checking_data/diag/diag_2010.CSV\",encoding='cp949')\n",
    "df_2015=pd.read_csv(\"data/checking_data/diag/diag_2015.CSV\",encoding='cp949')\n",
    "df_2020=pd.read_csv(\"data/checking_data/diag/diag_2020/HP_T20_2020_1.CSV\",encoding='cp949')"
   ]
  },
  {
   "cell_type": "code",
   "execution_count": 107,
   "metadata": {},
   "outputs": [],
   "source": [
    "df_2005 = df_2005.iloc[:1000,:]\n",
    "df_2010 = df_2010.iloc[:1000,:]\n",
    "df_2015 = df_2015.iloc[:1000,:]\n",
    "df_2020 = df_2020.iloc[:1000,:]"
   ]
  },
  {
   "cell_type": "code",
   "execution_count": null,
   "metadata": {},
   "outputs": [],
   "source": [
    "df_li=[\n",
    "    df_2005,\n",
    "    df_2010,\n",
    "    df_2015, \n",
    "    df_2020\n",
    "    ]\n",
    "\n",
    "# df columns 공백 제거\n",
    "for df in df_li:\n",
    "    df.columns = [i.replace(\" \",\"\") for i in df.columns]"
   ]
  },
  {
   "cell_type": "code",
   "execution_count": 108,
   "metadata": {},
   "outputs": [],
   "source": [
    "df_tot=pd.concat([df_2005,df_2010,df_2015,df_2020])"
   ]
  },
  {
   "cell_type": "code",
   "execution_count": 109,
   "metadata": {},
   "outputs": [],
   "source": [
    "# diag 주병명코드 dictionary\n",
    "import pickle\n",
    "with open(\"data/checking_data/diag/sick_code.picklem\",'rb') as fr:\n",
    "    sick_code_dict = pickle.load(fr)"
   ]
  },
  {
   "cell_type": "code",
   "execution_count": 110,
   "metadata": {},
   "outputs": [],
   "source": [
    "df_tot['주상병코드']=df_tot['주상병코드'].apply(lambda x : x[0]+str(int(x[1:])))\n",
    "df_tot['주상병명']=df_tot['주상병코드'].map(sick_code_dict)"
   ]
  },
  {
   "cell_type": "code",
   "execution_count": 111,
   "metadata": {},
   "outputs": [],
   "source": [
    "using_columns=['기준년도','성별코드', '연령대코드', '시도코드', '진료과목코드', '주상병코드', '부상병코드',\n",
    " '요양일수', '입내원일수', '심결가산율','심결요양급여비용총액', '심결본인부담금', '심결보험자부담금', \n",
    " '총처방일수',  '주상병명']"
   ]
  },
  {
   "cell_type": "code",
   "execution_count": 116,
   "metadata": {},
   "outputs": [
    {
     "data": {
      "text/plain": [
       "기준년도  주상병명         \n",
       "2015  기타 노년백내장         88\n",
       "2005  상세불명의 급성 기관지염    78\n",
       "2015  상세불명의 노년백내장      74\n",
       "2010  상세불명의 급성 편도염     62\n",
       "2015  노년성 핵백내장         58\n",
       "2010  상세불명의 급성 기관지염    55\n",
       "2015  상세불명의 급성 기관지염    48\n",
       "2005  급성 류마티스심장막염      46\n",
       "      연쇄구균인두염          39\n",
       "2010  상세불명의 앨러지비염      35\n",
       "Name: 주상병명, dtype: int64"
      ]
     },
     "execution_count": 116,
     "metadata": {},
     "output_type": "execute_result"
    }
   ],
   "source": [
    "df_tot=df_tot.loc[:,[using_columns]]"
   ]
  }
 ],
 "metadata": {
  "kernelspec": {
   "display_name": "Python 3.10.6 ('ml')",
   "language": "python",
   "name": "python3"
  },
  "language_info": {
   "codemirror_mode": {
    "name": "ipython",
    "version": 3
   },
   "file_extension": ".py",
   "mimetype": "text/x-python",
   "name": "python",
   "nbconvert_exporter": "python",
   "pygments_lexer": "ipython3",
   "version": "3.10.6"
  },
  "orig_nbformat": 4,
  "vscode": {
   "interpreter": {
    "hash": "08eac26dc1f80337b7d87e94e7159a5bad95c2e85f47efef91c61359b3afbfe9"
   }
  }
 },
 "nbformat": 4,
 "nbformat_minor": 2
}
