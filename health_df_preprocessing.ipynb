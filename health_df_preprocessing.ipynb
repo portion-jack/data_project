{
 "cells": [
  {
   "cell_type": "code",
   "execution_count": 1,
   "metadata": {},
   "outputs": [],
   "source": [
    "import pandas as pd"
   ]
  },
  {
   "cell_type": "code",
   "execution_count": 2,
   "metadata": {},
   "outputs": [],
   "source": [
    "df_2016=pd.read_csv(\"data/raw_data/건강검진정보_2016.csv\",encoding='cp949',on_bad_lines=\"skip\")\n",
    "df_2017=pd.read_csv(\"data/raw_data/건강검진정보_2017.csv\",encoding='cp949',on_bad_lines=\"skip\")\n",
    "df_2018=pd.read_csv(\"data/raw_data/건강검진정보_2018.csv\",encoding='cp949',on_bad_lines=\"skip\")\n",
    "df_2019=pd.read_csv(\"data/raw_data/건강검진정보_2019.csv\",encoding='cp949',on_bad_lines=\"skip\")\n",
    "df_2020=pd.read_csv(\"data/raw_data/건강검진정보_2020.CSV\",encoding='cp949',on_bad_lines=\"skip\")"
   ]
  },
  {
   "cell_type": "code",
   "execution_count": 26,
   "metadata": {},
   "outputs": [],
   "source": [
    "# df column 처리\n",
    "df_li=[\n",
    "    df_2016,\n",
    "    df_2017,\n",
    "    df_2018,\n",
    "    df_2019,\n",
    "    df_2020]\n",
    "\n",
    "for df in df_li:\n",
    "    df.columns = [i.replace(' ','') for i in df.columns]\n"
   ]
  },
  {
   "cell_type": "code",
   "execution_count": 29,
   "metadata": {},
   "outputs": [],
   "source": [
    "\n",
    "\n",
    "\n",
    "\"\"\"\n",
    "using  columns\n",
    "\n",
    "[\n",
    "    '기준년도', '시도코드', '성별코드', '연령대 코드(5세단위)', '신장(5Cm단위)',\n",
    "    '체중(5Kg 단위)', '허리둘레', '시력(좌)', '시력(우)', '청력(좌)', '청력(우)', '수축기 혈압',\n",
    "    '이완기 혈압', '식전혈당(공복혈당)', '총 콜레스테롤', '트리글리세라이드', 'HDL 콜레스테롤', 'LDL 콜레스테롤',\n",
    "    '혈색소', '요단백', '혈청크레아티닌', '(혈청지오티)AST', '(혈청지오티)ALT', '감마 지티피', '흡연상태',\n",
    "    '음주여부'\n",
    "]\n",
    "\"\"\"\n",
    "using_columns=['기준년도', '시도코드', '성별코드', '연령대코드(5세단위)', '신장(5Cm단위)',\n",
    "       '체중(5Kg단위)', '허리둘레', '시력(좌)', '시력(우)', '청력(좌)', '청력(우)', '수축기혈압',\n",
    "       '이완기혈압', '식전혈당(공복혈당)', '총콜레스테롤', '트리글리세라이드', 'HDL콜레스테롤', 'LDL콜레스테롤',\n",
    "       '혈색소', '요단백', '혈청크레아티닌', '(혈청지오티)AST', '(혈청지오티)ALT', '감마지티피', '흡연상태',\n",
    "       '음주여부']"
   ]
  }
 ],
 "metadata": {
  "kernelspec": {
   "display_name": "Python 3.10.6 ('ml')",
   "language": "python",
   "name": "python3"
  },
  "language_info": {
   "codemirror_mode": {
    "name": "ipython",
    "version": 3
   },
   "file_extension": ".py",
   "mimetype": "text/x-python",
   "name": "python",
   "nbconvert_exporter": "python",
   "pygments_lexer": "ipython3",
   "version": "3.10.6"
  },
  "orig_nbformat": 4,
  "vscode": {
   "interpreter": {
    "hash": "08eac26dc1f80337b7d87e94e7159a5bad95c2e85f47efef91c61359b3afbfe9"
   }
  }
 },
 "nbformat": 4,
 "nbformat_minor": 2
}
