{
 "cells": [
  {
   "cell_type": "code",
   "execution_count": 1,
   "metadata": {},
   "outputs": [
    {
     "data": {
      "text/plain": [
       "'\\npickle to dataframe\\n'"
      ]
     },
     "execution_count": 1,
     "metadata": {},
     "output_type": "execute_result"
    }
   ],
   "source": [
    "\"\"\"\n",
    "pickle to dataframe\n",
    "\"\"\""
   ]
  },
  {
   "cell_type": "code",
   "execution_count": null,
   "metadata": {},
   "outputs": [],
   "source": [
    "# imports\n",
    "\n",
    "import re\n",
    "import pickle\n",
    "import os\n",
    "\n",
    "import pandas as pd\n",
    "import matplotlib.pyplot as plt"
   ]
  },
  {
   "cell_type": "code",
   "execution_count": null,
   "metadata": {},
   "outputs": [],
   "source": [
    "news_files=os.listdir('news_crawling')\n",
    "print(len(set(sorted([i.split(\"_\")[-1].split('.')[0] for i in news_files]))))"
   ]
  },
  {
   "cell_type": "code",
   "execution_count": null,
   "metadata": {},
   "outputs": [],
   "source": [
    "news_brands = list({i.split('_')[0] for i in news_files})"
   ]
  },
  {
   "cell_type": "code",
   "execution_count": null,
   "metadata": {},
   "outputs": [],
   "source": [
    "# read_pickles by news_brands\n",
    "for news_brand in news_brands:\n",
    "    pickle_files = [i for i in news_files if i.startswith(news_brand)]\n",
    "    pickle_dates=[i.split('_')[-1].split('.')[0] for i in pickle_files] \n",
    "    vars()[news_brand] = dict()\n",
    "    for pickle_date,pickle_file in zip(pickle_dates,pickle_files):\n",
    "        with open(f'news_crawling/{pickle_file}', 'rb') as f:\n",
    "            vars()[news_brand][pickle_date] = pickle.load(f)"
   ]
  },
  {
   "cell_type": "code",
   "execution_count": null,
   "metadata": {},
   "outputs": [],
   "source": [
    "# save pickles by news_brands\n",
    "for news_brand in news_brands:\n",
    "    with open(f\"preprocessed_1_/{news_brand}.pickle\",\"wb\") as f:\n",
    "        pickle.dump(vars()[news_brand],f)"
   ]
  },
  {
   "cell_type": "code",
   "execution_count": null,
   "metadata": {},
   "outputs": [],
   "source": [
    "# dataframe based on news_brands\n",
    "df_list = []\n",
    "for news_brand in news_brands:\n",
    "    df_list.append(\n",
    "        pd.DataFrame.from_dict(vars()[news_brand],\n",
    "                               orient='index',\n",
    "                               columns=[f'{news_brand}_{i}' for i in range(1,6)])\n",
    "    )"
   ]
  },
  {
   "cell_type": "code",
   "execution_count": null,
   "metadata": {},
   "outputs": [],
   "source": [
    "# concat datframe\n",
    "df_tot=pd.concat(df_list,axis=1).sort_index()"
   ]
  }
 ],
 "metadata": {
  "kernelspec": {
   "display_name": "Python 3.10.6 ('crawling')",
   "language": "python",
   "name": "python3"
  },
  "language_info": {
   "codemirror_mode": {
    "name": "ipython",
    "version": 3
   },
   "file_extension": ".py",
   "mimetype": "text/x-python",
   "name": "python",
   "nbconvert_exporter": "python",
   "pygments_lexer": "ipython3",
   "version": "3.10.6"
  },
  "orig_nbformat": 4,
  "vscode": {
   "interpreter": {
    "hash": "10621530bc52bc3dcaea48e2b7ef028942e35d2e6e9c9234a88fefd069caf90f"
   }
  }
 },
 "nbformat": 4,
 "nbformat_minor": 2
}
