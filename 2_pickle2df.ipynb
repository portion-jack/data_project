{
 "cells": [
  {
   "cell_type": "code",
   "execution_count": 11,
   "metadata": {},
   "outputs": [],
   "source": [
    "# imports\n",
    "\n",
    "import re\n",
    "import pickle\n",
    "import os\n",
    "\n",
    "import pandas as pd\n",
    "import matplotlib.pyplot as plt\n",
    "from konlpy.tag import Okt"
   ]
  },
  {
   "cell_type": "code",
   "execution_count": 12,
   "metadata": {},
   "outputs": [
    {
     "name": "stdout",
     "output_type": "stream",
     "text": [
      "708\n"
     ]
    }
   ],
   "source": [
    "news_files=os.listdir('raw_data/naver_news_ranking_raw_data/')\n",
    "print(len(set(sorted([i.split(\"_\")[-1].split('.')[0] for i in news_files]))))"
   ]
  },
  {
   "cell_type": "code",
   "execution_count": 13,
   "metadata": {},
   "outputs": [],
   "source": [
    "news_brands = list({i.split('_')[0] for i in news_files})"
   ]
  },
  {
   "cell_type": "code",
   "execution_count": 14,
   "metadata": {},
   "outputs": [],
   "source": [
    "# read_pickles by news_brands\n",
    "for news_brand in news_brands:\n",
    "    pickle_files = [i for i in news_files if i.startswith(news_brand)]\n",
    "    pickle_dates=[i.split('_')[-1].split('.')[0] for i in pickle_files] \n",
    "    vars()[news_brand] = dict()\n",
    "    for pickle_date,pickle_file in zip(pickle_dates,pickle_files):\n",
    "        with open(f'raw_data/naver_news_ranking_raw_data/{pickle_file}', 'rb') as f:\n",
    "            vars()[news_brand][pickle_date] = pickle.load(f)"
   ]
  },
  {
   "cell_type": "code",
   "execution_count": 15,
   "metadata": {},
   "outputs": [],
   "source": [
    "df_li = []\n",
    "for news_brand in news_brands:\n",
    "    temp = pd.DataFrame.from_dict(vars()[news_brand], orient='index')\n",
    "    temp = pd.concat([temp.iloc[:,i] for i in range(len(temp.columns))])\n",
    "    temp = pd.DataFrame(temp)    \n",
    "    temp['news_brand'] = news_brand\n",
    "    df_li.append(temp)\n",
    "\n",
    "df_tot = pd.concat(df_li)\n",
    "\n",
    "df_tot.rename(columns={0:'news_title_raw'},inplace=True)\n",
    "\n"
   ]
  },
  {
   "cell_type": "code",
   "execution_count": 6,
   "metadata": {},
   "outputs": [],
   "source": [
    "def to_clean_str(text):\n",
    "    hangul = re.compile('[^ ㄱ-ㅣ가-힣]+')    \n",
    "    try:\n",
    "        return hangul.sub('', text).strip()\n",
    "    except:\n",
    "        return \"\"\n",
    "    \n",
    "def sentence2word(text):\n",
    "    okt = Okt()\n",
    "    \n",
    "    sentences_tag = []\n",
    "    sentences_tag = okt.pos(text) \n",
    "    noun_list = []\n",
    "\n",
    "    for word, tag in sentences_tag:\n",
    "        if tag in ['Noun']: \n",
    "            noun_list.append(word)\n",
    "    return ' '.join(noun_list)"
   ]
  },
  {
   "cell_type": "code",
   "execution_count": 8,
   "metadata": {},
   "outputs": [
    {
     "data": {
      "text/html": [
       "<div>\n",
       "<style scoped>\n",
       "    .dataframe tbody tr th:only-of-type {\n",
       "        vertical-align: middle;\n",
       "    }\n",
       "\n",
       "    .dataframe tbody tr th {\n",
       "        vertical-align: top;\n",
       "    }\n",
       "\n",
       "    .dataframe thead th {\n",
       "        text-align: right;\n",
       "    }\n",
       "</style>\n",
       "<table border=\"1\" class=\"dataframe\">\n",
       "  <thead>\n",
       "    <tr style=\"text-align: right;\">\n",
       "      <th></th>\n",
       "      <th>news_title_raw</th>\n",
       "      <th>news_brand</th>\n",
       "    </tr>\n",
       "  </thead>\n",
       "  <tbody>\n",
       "    <tr>\n",
       "      <th>20211104</th>\n",
       "      <td>12-year-old boy injured from a metal screw fou...</td>\n",
       "      <td>코리아헤럴드</td>\n",
       "    </tr>\n",
       "    <tr>\n",
       "      <th>20210313</th>\n",
       "      <td>LH official takes life, land minister offers t...</td>\n",
       "      <td>코리아헤럴드</td>\n",
       "    </tr>\n",
       "    <tr>\n",
       "      <th>20220822</th>\n",
       "      <td>[Herald Interview] ‘Extraordinary Attorney Woo...</td>\n",
       "      <td>코리아헤럴드</td>\n",
       "    </tr>\n",
       "    <tr>\n",
       "      <th>20210510</th>\n",
       "      <td>Cases of ‘worrisome’ COVID-19 variants soar in...</td>\n",
       "      <td>코리아헤럴드</td>\n",
       "    </tr>\n",
       "    <tr>\n",
       "      <th>20211104</th>\n",
       "      <td>[News Focus] Elixir for diesel cars puts Korea...</td>\n",
       "      <td>코리아헤럴드</td>\n",
       "    </tr>\n",
       "    <tr>\n",
       "      <th>...</th>\n",
       "      <td>...</td>\n",
       "      <td>...</td>\n",
       "    </tr>\n",
       "    <tr>\n",
       "      <th>20220809</th>\n",
       "      <td>[단독] 서울 강남 빌딩 지하주차장에서 차량 확인하다 급류에 실종</td>\n",
       "      <td>매일경제</td>\n",
       "    </tr>\n",
       "    <tr>\n",
       "      <th>20220710</th>\n",
       "      <td>아베 사망에 '3일 동안 밀크티 1+1' 현수막 건 중국상점</td>\n",
       "      <td>매일경제</td>\n",
       "    </tr>\n",
       "    <tr>\n",
       "      <th>20220905</th>\n",
       "      <td>너바나 표지 속 ‘알몸 아기’가 낸 아동 포르노 소송 또 기각</td>\n",
       "      <td>매일경제</td>\n",
       "    </tr>\n",
       "    <tr>\n",
       "      <th>20210328</th>\n",
       "      <td>1010만원 솔비 13억 이우환…금융 IT 3040 미술품 쓸어담는다</td>\n",
       "      <td>매일경제</td>\n",
       "    </tr>\n",
       "    <tr>\n",
       "      <th>20220122</th>\n",
       "      <td>세계인 간식 됐다더니…올 매출 1천억 도전하는 '지도표 성경김' [남돈남산]</td>\n",
       "      <td>매일경제</td>\n",
       "    </tr>\n",
       "  </tbody>\n",
       "</table>\n",
       "<p>45790 rows × 2 columns</p>\n",
       "</div>"
      ],
      "text/plain": [
       "                                             news_title_raw news_brand\n",
       "20211104  12-year-old boy injured from a metal screw fou...     코리아헤럴드\n",
       "20210313  LH official takes life, land minister offers t...     코리아헤럴드\n",
       "20220822  [Herald Interview] ‘Extraordinary Attorney Woo...     코리아헤럴드\n",
       "20210510  Cases of ‘worrisome’ COVID-19 variants soar in...     코리아헤럴드\n",
       "20211104  [News Focus] Elixir for diesel cars puts Korea...     코리아헤럴드\n",
       "...                                                     ...        ...\n",
       "20220809               [단독] 서울 강남 빌딩 지하주차장에서 차량 확인하다 급류에 실종       매일경제\n",
       "20220710                  아베 사망에 '3일 동안 밀크티 1+1' 현수막 건 중국상점       매일경제\n",
       "20220905                 너바나 표지 속 ‘알몸 아기’가 낸 아동 포르노 소송 또 기각       매일경제\n",
       "20210328             1010만원 솔비 13억 이우환…금융 IT 3040 미술품 쓸어담는다       매일경제\n",
       "20220122         세계인 간식 됐다더니…올 매출 1천억 도전하는 '지도표 성경김' [남돈남산]       매일경제\n",
       "\n",
       "[45790 rows x 2 columns]"
      ]
     },
     "execution_count": 8,
     "metadata": {},
     "output_type": "execute_result"
    }
   ],
   "source": [
    "df_tot"
   ]
  },
  {
   "cell_type": "code",
   "execution_count": 9,
   "metadata": {},
   "outputs": [],
   "source": [
    "df_tot['news_title_cleaned']=df_tot['news_title_raw'].apply(lambda x:to_clean_str(x))\n",
    "df_tot['news_words']=df_tot.news_title_cleaned.apply(lambda x: sentence2word(x))\n",
    "df_tot.index=pd.to_datetime(df_tot.index,format=\"%Y%m%d\")"
   ]
  },
  {
   "cell_type": "code",
   "execution_count": 10,
   "metadata": {},
   "outputs": [],
   "source": [
    "df_tot.to_csv(\"preprocessed_data/news_data.csv\")"
   ]
  }
 ],
 "metadata": {
  "kernelspec": {
   "display_name": "Python 3.10.6 ('crawling')",
   "language": "python",
   "name": "python3"
  },
  "language_info": {
   "codemirror_mode": {
    "name": "ipython",
    "version": 3
   },
   "file_extension": ".py",
   "mimetype": "text/x-python",
   "name": "python",
   "nbconvert_exporter": "python",
   "pygments_lexer": "ipython3",
   "version": "3.10.6"
  },
  "orig_nbformat": 4,
  "vscode": {
   "interpreter": {
    "hash": "10621530bc52bc3dcaea48e2b7ef028942e35d2e6e9c9234a88fefd069caf90f"
   }
  }
 },
 "nbformat": 4,
 "nbformat_minor": 2
}
