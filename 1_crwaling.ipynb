{
 "cells": [
  {
   "cell_type": "code",
   "execution_count": null,
   "metadata": {},
   "outputs": [],
   "source": [
    "import time\n",
    "import selenium\n",
    "from selenium import webdriver\n",
    "from selenium.webdriver.common.by import By\n",
    "from selenium.webdriver.chrome.service import Service\n",
    "\n",
    "import bs4\n",
    "import pickle\n",
    "\n",
    "d_path = r\"/Users/jack/utils/chromedriver\"\n",
    "s = Service(d_path)\n",
    "driver = webdriver.Chrome(service=s)\n",
    "\n",
    "url = 'https://news.naver.com/main/ranking/popularDay.naver'\n",
    "driver.get(url)\n",
    "\n",
    "while True:\n",
    "    try:\n",
    "        next_page_xpath = '//*[@id=\"wrap\"]/div[4]/ul/li[4]/a'\n",
    "        driver.find_element(by=By.XPATH,value=next_page_xpath).click()\n",
    "        time.sleep(1.3)\n",
    "        print(f\"---{driver.current_url[-8:]}----\")\n",
    "    except:\n",
    "        break\n",
    "    try:\n",
    "        _date=driver.current_url[-8:]\n",
    "\n",
    "        soup = bs4.BeautifulSoup(driver.page_source,features='html.parser')\n",
    "        ranking_news = soup.find('div', class_=\"_officeCard _officeCard0\").find_all('div', class_='rankingnews_box')\n",
    "        for news in ranking_news:\n",
    "            news_name = news.find('strong', class_='rankingnews_name').get_text(strip=True)\n",
    "            _temp = list()\n",
    "            for titles in news.find_all('a', class_=\"list_title nclicks('RBP.rnknws')\"):\n",
    "                _temp.append(titles.get_text(strip=True))\n",
    "            with open(f\"raw_data/naver_news_ranking_raw_data/{news_name}_{_date}.pickle\",'wb') as f:\n",
    "                pickle.dump(_temp,f)\n",
    "    except AttributeError:\n",
    "        driver.back()\n",
    "        time.sleep(3)"
   ]
  }
 ],
 "metadata": {
  "kernelspec": {
   "display_name": "Python 3.10.6 ('crawling')",
   "language": "python",
   "name": "python3"
  },
  "language_info": {
   "name": "python",
   "version": "3.10.6"
  },
  "orig_nbformat": 4,
  "vscode": {
   "interpreter": {
    "hash": "10621530bc52bc3dcaea48e2b7ef028942e35d2e6e9c9234a88fefd069caf90f"
   }
  }
 },
 "nbformat": 4,
 "nbformat_minor": 2
}
