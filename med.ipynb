{
 "cells": [
  {
   "cell_type": "code",
   "execution_count": 1,
   "metadata": {},
   "outputs": [],
   "source": [
    "import pandas as pd"
   ]
  },
  {
   "cell_type": "code",
   "execution_count": 2,
   "metadata": {},
   "outputs": [],
   "source": [
    "df_2005=pd.read_csv(\"data/checking_data/med/med_2005.CSV\",encoding='cp949')\n",
    "df_2010=pd.read_csv(\"data/checking_data/med/med_2010/med_2010_1.CSV\",encoding='cp949')\n",
    "df_2015=pd.read_csv(\"data/checking_data/med/med_2015/med_2015_1.CSV\",encoding='cp949')\n",
    "df_2020=pd.read_csv(\"data/checking_data/med/med_2020/med_2020_1.CSV\",encoding='cp949')"
   ]
  },
  {
   "cell_type": "code",
   "execution_count": 3,
   "metadata": {},
   "outputs": [],
   "source": [
    "df_2005 = df_2005.iloc[:1000,:]\n",
    "df_2010 = df_2010.iloc[:1000,:]\n",
    "df_2015 = df_2015.iloc[:1000,:]\n",
    "df_2020 = df_2020.iloc[:1000,:]"
   ]
  },
  {
   "cell_type": "code",
   "execution_count": 7,
   "metadata": {},
   "outputs": [],
   "source": [
    "df_li=[\n",
    "    df_2005,\n",
    "    df_2010,\n",
    "    df_2015, \n",
    "    df_2020\n",
    "    ]\n",
    "\n",
    "# df columns 공백 제거\n",
    "for df in df_li:\n",
    "    df.columns = [i.replace(\" \",\"\") for i in df.columns]"
   ]
  },
  {
   "cell_type": "code",
   "execution_count": 10,
   "metadata": {},
   "outputs": [],
   "source": [
    "import pickle\n",
    "with open(\"data/preprocessed_data/medicin_mapper.pkl\",'rb') as fr:\n",
    "    my_dict = pickle.load(fr)"
   ]
  },
  {
   "cell_type": "code",
   "execution_count": 44,
   "metadata": {},
   "outputs": [],
   "source": [
    "df_tot=pd.concat([df_2005,df_2010,df_2015,df_2020])"
   ]
  },
  {
   "cell_type": "code",
   "execution_count": 45,
   "metadata": {},
   "outputs": [],
   "source": [
    "df_tot['약품명']=df_tot['약품일반성분명코드'].map(my_dict)"
   ]
  }
 ],
 "metadata": {
  "kernelspec": {
   "display_name": "Python 3.10.6 ('ml')",
   "language": "python",
   "name": "python3"
  },
  "language_info": {
   "codemirror_mode": {
    "name": "ipython",
    "version": 3
   },
   "file_extension": ".py",
   "mimetype": "text/x-python",
   "name": "python",
   "nbconvert_exporter": "python",
   "pygments_lexer": "ipython3",
   "version": "3.10.6"
  },
  "orig_nbformat": 4,
  "vscode": {
   "interpreter": {
    "hash": "08eac26dc1f80337b7d87e94e7159a5bad95c2e85f47efef91c61359b3afbfe9"
   }
  }
 },
 "nbformat": 4,
 "nbformat_minor": 2
}
