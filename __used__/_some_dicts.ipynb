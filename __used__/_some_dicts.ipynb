{
 "cells": [
  {
   "cell_type": "code",
   "execution_count": null,
   "metadata": {},
   "outputs": [],
   "source": [
    "location_dict={11: '서울특별시',\n",
    " 26: '부산광역시',\n",
    " 27: '대구광역시',\n",
    " 28: '인천광역시',\n",
    " 29: '광주광역시',\n",
    " 30: '대전광역시',\n",
    " 31: '울산광역시',\n",
    " 36: '세종특별자치시',\n",
    " 41: '경기도',\n",
    " 42: '강원도',\n",
    " 43: '충청북도',\n",
    " 44: '충청남도',\n",
    " 45: '전라북도',\n",
    " 46: '전라남도',\n",
    " 47: '경상북도',\n",
    " 48: '경상남도',\n",
    " 49: '제주특별자치도'}"
   ]
  },
  {
   "cell_type": "code",
   "execution_count": null,
   "metadata": {},
   "outputs": [],
   "source": [
    "# health\n",
    "using_columns=['기준년도', '시도코드', '성별코드', '연령대코드(5세단위)', '신장(5Cm단위)', '체중(5Kg단위)', '시력(좌)', '시력(우)', \n",
    "               '청력(좌)', '청력(우)', '수축기혈압', '이완기혈압', '식전혈당(공복혈당)', '총콜레스테롤', \n",
    "               '혈색소', '요단백', '(혈청지오티)AST', '(혈청지오티)ALT', '감마지티피', '흡연상태', \n",
    "               '음주여부', '허리둘레', '트리글리세라이드', 'HDL콜레스테롤', 'LDL콜레스테롤', '혈청크레아티닌']"
   ]
  },
  {
   "cell_type": "code",
   "execution_count": null,
   "metadata": {},
   "outputs": [],
   "source": [
    "# diag 진료과목코드\n",
    "\n",
    "my_dict={0: '일반의', 1: '내과', 2: '신경과', 3: '정신과', 4: '외과', 5: '정형외과', 6: '신경외과', 7: '흉부외과', 8: '성형외과', 9: '마취통증의학과', \n",
    " 10: '산부인과', 11: '소아청소년과', 12: '안과', 13: '이비인후과', 14: '피부과', 15: '비뇨기과', 16: '영상의학과', 17: '방사선종양학과', 18: '병리과', \n",
    " 19: '진단검사의학과', 20: '결핵과', 21: '재활의학과', 22: '핵의학과', 23: '가정의학과', 24: '응급의학과', 25: '산업의학과', 26: '예방의학과', 50: '구강악안면외과',\n",
    " 51: '치과보철과', 52: '치과교정과', 53: '소아치과', 54: '치주과', 55: '치과보존과', 56: '구강내과', 57: '구강악안면방사선과', 58: '구강병리과', 59: '예방치과',\n",
    " 80: '한방내과', 81: '한방부인과', 82: '한방소아과', 83: '한방안과,', 84: '한방신경정신과', 85: '침구과', 86: '한방재활의학과', 87: '사상체질과', 88: '한방응급',\n",
    " 'ZZ': '결측'}"
   ]
  },
  {
   "cell_type": "code",
   "execution_count": null,
   "metadata": {},
   "outputs": [],
   "source": [
    "# diag 주병명코드 dictionary\n",
    "\"\"\"import pickle\n",
    "with open(\"data/checking_data/diag/sick_code.picklem\",'rb') as fr:\n",
    "    my_dict = pickle.load(fr)\"\"\""
   ]
  },
  {
   "cell_type": "code",
   "execution_count": null,
   "metadata": {},
   "outputs": [],
   "source": [
    "# diag using column\n",
    "using_columns=['기준년도','성별코드', '연령대코드', '시도코드', '진료과목코드', '주상병코드', '부상병코드',\n",
    " '요양일수', '입내원일수', '심결가산율','심결요양급여비용총액', '심결본인부담금', '심결보험자부담금', \n",
    " '총처방일수',  '주상병명']"
   ]
  },
  {
   "cell_type": "code",
   "execution_count": null,
   "metadata": {},
   "outputs": [],
   "source": [
    "# med\n",
    "using_columns=['기준년도', '성별코드', '연령대코드(5세단위)', '시도코드',\n",
    " '약품일반성분명코드', '총투여일수', '단가', '금액','약품명']\n"
   ]
  },
  {
   "cell_type": "code",
   "execution_count": null,
   "metadata": {},
   "outputs": [],
   "source": [
    "# med dict\n",
    "import pickle\n",
    "with open(\"data/preprocessed_data/medicin_mapper.pkl\",'rb') as fr:\n",
    "    my_dict = pickle.load(fr)\n",
    "    "
   ]
  }
 ],
 "metadata": {
  "kernelspec": {
   "display_name": "Python 3.9.6 64-bit",
   "language": "python",
   "name": "python3"
  },
  "language_info": {
   "name": "python",
   "version": "3.9.6"
  },
  "orig_nbformat": 4,
  "vscode": {
   "interpreter": {
    "hash": "31f2aee4e71d21fbe5cf8b01ff0e069b9275f58929596ceb00d14d90e3e16cd6"
   }
  }
 },
 "nbformat": 4,
 "nbformat_minor": 2
}
