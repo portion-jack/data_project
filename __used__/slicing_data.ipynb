{
 "cells": [
  {
   "cell_type": "code",
   "execution_count": 7,
   "metadata": {},
   "outputs": [],
   "source": [
    "import pandas as pd"
   ]
  },
  {
   "cell_type": "code",
   "execution_count": 7,
   "metadata": {},
   "outputs": [],
   "source": [
    "path = \"data/checking_data/health/\"\n",
    "files=os.listdir(\"data/checking_data/health/\")"
   ]
  },
  {
   "cell_type": "code",
   "execution_count": 8,
   "metadata": {},
   "outputs": [
    {
     "data": {
      "text/plain": [
       "['health_2016.csv',\n",
       " 'health_2017.csv',\n",
       " 'health_2015.CSV',\n",
       " 'health_2010.CSV',\n",
       " 'health_2005.CSV',\n",
       " 'health_2020.CSV',\n",
       " 'health_2019.csv',\n",
       " 'health_2018.csv']"
      ]
     },
     "execution_count": 8,
     "metadata": {},
     "output_type": "execute_result"
    }
   ],
   "source": [
    "files"
   ]
  },
  {
   "cell_type": "code",
   "execution_count": 20,
   "metadata": {},
   "outputs": [],
   "source": [
    "using_columns=['기준년도', '시도코드', '성별코드', '연령대코드(5세단위)', '신장(5Cm단위)', '체중(5Kg단위)', '시력(좌)', '시력(우)', \n",
    "               '수축기혈압', '이완기혈압', '식전혈당(공복혈당)', '총콜레스테롤', \n",
    "               '혈색소', '요단백', '(혈청지오티)AST', '(혈청지오티)ALT', '감마지티피', '흡연상태', '음주여부']\n",
    "\n",
    "for file in files[1:]:\n",
    "    try:\n",
    "        df=pd.read_csv(path+file,encoding='cp949',on_bad_lines='skip')\n",
    "        df.columns = [i.replace(\" \",\"\") for i in df.columns]\n",
    "        df=df.loc[:,using_columns]\n",
    "        df.to_csv(path+file)\n",
    "    except:\n",
    "        df=pd.read_csv(path+file,encoding='utf-8',on_bad_lines='skip')\n",
    "        df.columns = [i.replace(\" \",\"\") for i in df.columns]\n",
    "        df=df.loc[:,using_columns]\n",
    "        df.to_csv(path+file)"
   ]
  },
  {
   "cell_type": "code",
   "execution_count": 24,
   "metadata": {},
   "outputs": [],
   "source": [
    "path = \"data/checking_data/diag/\"\n",
    "files=sorted(os.listdir(path))\n",
    "files=files[1:-1]\n",
    "\n",
    "import pickle\n",
    "with open(\"data/checking_data/diag/sick_code.picklem\",'rb') as fr:\n",
    "    sick_code_dict = pickle.load(fr)"
   ]
  },
  {
   "cell_type": "code",
   "execution_count": 25,
   "metadata": {},
   "outputs": [],
   "source": [
    "for file in files:\n",
    "    df=pd.read_csv(path+file,encoding='cp949')\n",
    "    df.columns = [i.replace(\" \",\"\") for i in df.columns]\n",
    "    df.drop(['가입자일련번호','부상병코드','진료내역일련번호','요양개시일자','서식코드','심결가산율','입내원일수','총처방일수','데이터기준일자'],axis=1,inplace=True)\n",
    "    df['병명']=df['주상병코드'].map(sick_code_dict)\n",
    "    df.to_csv(path+file)"
   ]
  },
  {
   "cell_type": "code",
   "execution_count": 3,
   "metadata": {},
   "outputs": [],
   "source": [
    "path = \"data/checking_data/med/\"\n",
    "files=sorted(os.listdir(path))\n",
    "files=files[1:]"
   ]
  },
  {
   "cell_type": "code",
   "execution_count": 5,
   "metadata": {},
   "outputs": [],
   "source": [
    "import gc\n",
    "\n",
    "gc.collect()"
   ]
  },
  {
   "cell_type": "code",
   "execution_count": 12,
   "metadata": {},
   "outputs": [],
   "source": [
    "import pickle\n",
    "with open(\"data/preprocessed_data/medicin_mapper.pkl\",'rb') as fr:\n",
    "    my_dict = pickle.load(fr)"
   ]
  }
 ],
 "metadata": {
  "kernelspec": {
   "display_name": "Python 3.10.6 ('ml')",
   "language": "python",
   "name": "python3"
  },
  "language_info": {
   "codemirror_mode": {
    "name": "ipython",
    "version": 3
   },
   "file_extension": ".py",
   "mimetype": "text/x-python",
   "name": "python",
   "nbconvert_exporter": "python",
   "pygments_lexer": "ipython3",
   "version": "3.10.6"
  },
  "orig_nbformat": 4,
  "vscode": {
   "interpreter": {
    "hash": "08eac26dc1f80337b7d87e94e7159a5bad95c2e85f47efef91c61359b3afbfe9"
   }
  }
 },
 "nbformat": 4,
 "nbformat_minor": 2
}
